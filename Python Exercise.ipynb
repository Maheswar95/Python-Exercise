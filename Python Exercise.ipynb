{
 "cells": [
  {
   "cell_type": "markdown",
   "metadata": {},
   "source": [
    "## 1. Reverse a string\n",
    "\n",
    "Complete the function below to so that it returns a reversed string of input text"
   ]
  },
  {
   "cell_type": "code",
   "execution_count": 1,
   "metadata": {
    "ExecuteTime": {
     "end_time": "2020-12-02T09:30:30.469560Z",
     "start_time": "2020-12-02T09:30:30.444750Z"
    }
   },
   "outputs": [
    {
     "name": "stdout",
     "output_type": "stream",
     "text": [
      "desserts fo reward\n"
     ]
    }
   ],
   "source": [
    "import string \n",
    "def reverse_a_string(text):\n",
    "  string = \"\"\n",
    "  for i in text :\n",
    "    string = i + string\n",
    "  return string\n",
    "text = \"drawer of stressed\"\n",
    "print(reverse_a_string(\"drawer of stressed\"))"
   ]
  },
  {
   "cell_type": "markdown",
   "metadata": {},
   "source": [
    "# 2. Count words\n",
    "\n",
    "The challenge below is about the frequency of words - how many times each unique word appears in the text. "
   ]
  },
  {
   "cell_type": "code",
   "execution_count": 2,
   "metadata": {},
   "outputs": [
    {
     "name": "stdout",
     "output_type": "stream",
     "text": [
      "Frequency of  others is : 1\n",
      "Frequency of  should is : 1\n",
      "Frequency of  feel is : 1\n",
      "Frequency of  saw is : 1\n",
      "Frequency of  were is : 1\n",
      "Frequency of  really is : 1\n",
      "Frequency of  I is : 5\n",
      "Frequency of  because is : 2\n",
      "Frequency of  and is : 1\n",
      "Frequency of  the is : 1\n",
      "Frequency of  knew is : 1\n",
      "Frequency of  but is : 1\n",
      "Frequency of  wasn���t is : 1\n",
      "Frequency of  felt is : 1\n",
      "Frequency of  happy is : 2\n",
      "Frequency of  happy. is : 1\n",
      "Frequency of  happy, is : 1\n"
     ]
    }
   ],
   "source": [
    "# function to calculate the frequency \n",
    "def count_unique_words(text):\n",
    "    \n",
    "    # breaking the string to list of words\n",
    "    text_list = text.split()\n",
    "    \n",
    "    # unique words set\n",
    "    unique_words = set(text_list)\n",
    "    for words in unique_words : \n",
    "        print(\"Frequency of \", words , \"is :\", text_list.count(words))\n",
    "       \n",
    " # driver code      \n",
    "if __name__ == \"__main__\": \n",
    "      \n",
    "    text =\"I felt happy because I saw the others were \" \"happy and because I knew I should feel happy, \" \"but I wasn���t really happy.\"\n",
    "    count_unique_words(text)\n",
    "    \n",
    "\n"
   ]
  },
  {
   "cell_type": "markdown",
   "metadata": {},
   "source": [
    "# 3. Validate expression\n",
    "\n",
    "Lets imagine that the expressiones fed into the function below can be valid or invalid depending on the balance in opening / closing braces. Edit the below function to make it work."
   ]
  },
  {
   "cell_type": "code",
   "execution_count": 3,
   "metadata": {},
   "outputs": [
    {
     "name": "stdout",
     "output_type": "stream",
     "text": [
      "is this ok? True\n",
      "is this ok? False\n"
     ]
    }
   ],
   "source": [
    "# balanced opening and closing braces in an expression\n",
    "open_list = [\"[\",\"{\",\"(\"] \n",
    "close_list = [\"]\",\"}\",\")\"] \n",
    "\n",
    "# To check functions of braces in an expression \n",
    "def validate_expression(Str): \n",
    "    stack = [] \n",
    "    for i in Str: \n",
    "        if i in open_list: \n",
    "            stack.append(i) \n",
    "        elif i in close_list: \n",
    "            pos = close_list.index(i) \n",
    "            if ((len(stack) > 0) and\n",
    "                (open_list[pos] == stack[len(stack)-1])): \n",
    "                stack.pop() \n",
    "            else: \n",
    "                return \"False\"\n",
    "    if len(stack) == 0: \n",
    "        return \"True\"\n",
    "    else: \n",
    "        return \"False\"\n",
    "    \n",
    "print(\"is this ok?\", validate_expression(\"this() and (that and (this or that) or maybe something else)\"))\n",
    "print(\"is this ok?\", validate_expression(\"this() and (that(of this (and(that(and(this again)))) and (this or that) or maybe something else)\"))"
   ]
  },
  {
   "cell_type": "code",
   "execution_count": null,
   "metadata": {},
   "outputs": [],
   "source": []
  }
 ],
 "metadata": {
  "kernelspec": {
   "display_name": "Python 3",
   "language": "python",
   "name": "python3"
  },
  "language_info": {
   "codemirror_mode": {
    "name": "ipython",
    "version": 3
   },
   "file_extension": ".py",
   "mimetype": "text/x-python",
   "name": "python",
   "nbconvert_exporter": "python",
   "pygments_lexer": "ipython3",
   "version": "3.7.3"
  }
 },
 "nbformat": 4,
 "nbformat_minor": 4
}
